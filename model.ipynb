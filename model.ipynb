{
 "cells": [
  {
   "cell_type": "markdown",
   "id": "3f68e2f0",
   "metadata": {},
   "source": [
    "# Imports"
   ]
  },
  {
   "cell_type": "code",
   "execution_count": 1,
   "id": "00781713",
   "metadata": {},
   "outputs": [],
   "source": [
    "import pandas as pd\n",
    "import numpy as np\n",
    "\n",
    "from joblib import dump, load"
   ]
  },
  {
   "cell_type": "markdown",
   "id": "c772248c",
   "metadata": {},
   "source": [
    "# Loading dataset"
   ]
  },
  {
   "cell_type": "code",
   "execution_count": 2,
   "id": "8f96fc2c",
   "metadata": {},
   "outputs": [],
   "source": [
    "df = pd.read_csv('train_processed.csv', header=0)"
   ]
  },
  {
   "cell_type": "code",
   "execution_count": 3,
   "id": "4bc507b6",
   "metadata": {},
   "outputs": [],
   "source": [
    "ids = df.pop('id')"
   ]
  },
  {
   "cell_type": "code",
   "execution_count": 4,
   "id": "d901f39b",
   "metadata": {},
   "outputs": [
    {
     "data": {
      "text/html": [
       "<div>\n",
       "<style scoped>\n",
       "    .dataframe tbody tr th:only-of-type {\n",
       "        vertical-align: middle;\n",
       "    }\n",
       "\n",
       "    .dataframe tbody tr th {\n",
       "        vertical-align: top;\n",
       "    }\n",
       "\n",
       "    .dataframe thead th {\n",
       "        text-align: right;\n",
       "    }\n",
       "</style>\n",
       "<table border=\"1\" class=\"dataframe\">\n",
       "  <thead>\n",
       "    <tr style=\"text-align: right;\">\n",
       "      <th></th>\n",
       "      <th>Episode_Length_minutes</th>\n",
       "      <th>Host_Popularity_percentage</th>\n",
       "      <th>Guest_Popularity_percentage</th>\n",
       "      <th>Number_of_Ads</th>\n",
       "      <th>Episode_Number</th>\n",
       "      <th>Genre_Business</th>\n",
       "      <th>Genre_Comedy</th>\n",
       "      <th>Genre_Education</th>\n",
       "      <th>Genre_Health</th>\n",
       "      <th>Genre_Lifestyle</th>\n",
       "      <th>...</th>\n",
       "      <th>Podcast_Embed_91</th>\n",
       "      <th>Podcast_Embed_92</th>\n",
       "      <th>Podcast_Embed_93</th>\n",
       "      <th>Podcast_Embed_94</th>\n",
       "      <th>Podcast_Embed_95</th>\n",
       "      <th>Podcast_Embed_96</th>\n",
       "      <th>Podcast_Embed_97</th>\n",
       "      <th>Podcast_Embed_98</th>\n",
       "      <th>Podcast_Embed_99</th>\n",
       "      <th>Listening_Time_minutes</th>\n",
       "    </tr>\n",
       "  </thead>\n",
       "  <tbody>\n",
       "    <tr>\n",
       "      <th>0</th>\n",
       "      <td>-3.477432e-16</td>\n",
       "      <td>0.653611</td>\n",
       "      <td>-3.004898e-16</td>\n",
       "      <td>-1.171766</td>\n",
       "      <td>1.657582</td>\n",
       "      <td>-0.346806</td>\n",
       "      <td>-0.34905</td>\n",
       "      <td>-0.264675</td>\n",
       "      <td>-0.324411</td>\n",
       "      <td>-0.351468</td>\n",
       "      <td>...</td>\n",
       "      <td>0.418261</td>\n",
       "      <td>-0.776574</td>\n",
       "      <td>-0.088732</td>\n",
       "      <td>0.567832</td>\n",
       "      <td>1.608396</td>\n",
       "      <td>0.484065</td>\n",
       "      <td>-0.149683</td>\n",
       "      <td>-0.924076</td>\n",
       "      <td>-0.285117</td>\n",
       "      <td>-0.516518</td>\n",
       "    </tr>\n",
       "    <tr>\n",
       "      <th>1</th>\n",
       "      <td>1.677160e+00</td>\n",
       "      <td>0.309976</td>\n",
       "      <td>8.334811e-01</td>\n",
       "      <td>0.565657</td>\n",
       "      <td>-0.906009</td>\n",
       "      <td>-0.346806</td>\n",
       "      <td>2.86492</td>\n",
       "      <td>-0.264675</td>\n",
       "      <td>-0.324411</td>\n",
       "      <td>-0.351468</td>\n",
       "      <td>...</td>\n",
       "      <td>0.749341</td>\n",
       "      <td>-0.935100</td>\n",
       "      <td>1.541608</td>\n",
       "      <td>0.168647</td>\n",
       "      <td>-0.951429</td>\n",
       "      <td>1.436345</td>\n",
       "      <td>0.634674</td>\n",
       "      <td>-0.250853</td>\n",
       "      <td>1.070425</td>\n",
       "      <td>1.568817</td>\n",
       "    </tr>\n",
       "    <tr>\n",
       "      <th>2</th>\n",
       "      <td>2.849676e-01</td>\n",
       "      <td>0.442009</td>\n",
       "      <td>-1.520724e+00</td>\n",
       "      <td>-1.171766</td>\n",
       "      <td>-1.262063</td>\n",
       "      <td>-0.346806</td>\n",
       "      <td>-0.34905</td>\n",
       "      <td>3.778220</td>\n",
       "      <td>-0.324411</td>\n",
       "      <td>-0.351468</td>\n",
       "      <td>...</td>\n",
       "      <td>-1.144233</td>\n",
       "      <td>-0.343991</td>\n",
       "      <td>1.651599</td>\n",
       "      <td>1.014901</td>\n",
       "      <td>1.670312</td>\n",
       "      <td>-0.472468</td>\n",
       "      <td>0.188194</td>\n",
       "      <td>-0.561836</td>\n",
       "      <td>-0.927021</td>\n",
       "      <td>-0.018870</td>\n",
       "    </tr>\n",
       "    <tr>\n",
       "      <th>3</th>\n",
       "      <td>8.084003e-02</td>\n",
       "      <td>-0.115415</td>\n",
       "      <td>9.301377e-01</td>\n",
       "      <td>0.565657</td>\n",
       "      <td>-0.229506</td>\n",
       "      <td>-0.346806</td>\n",
       "      <td>-0.34905</td>\n",
       "      <td>-0.264675</td>\n",
       "      <td>-0.324411</td>\n",
       "      <td>-0.351468</td>\n",
       "      <td>...</td>\n",
       "      <td>2.008528</td>\n",
       "      <td>0.215965</td>\n",
       "      <td>-1.791090</td>\n",
       "      <td>-0.224865</td>\n",
       "      <td>-1.339929</td>\n",
       "      <td>1.635518</td>\n",
       "      <td>-1.438292</td>\n",
       "      <td>0.806239</td>\n",
       "      <td>1.025922</td>\n",
       "      <td>0.030983</td>\n",
       "    </tr>\n",
       "    <tr>\n",
       "      <th>4</th>\n",
       "      <td>1.395385e+00</td>\n",
       "      <td>0.883576</td>\n",
       "      <td>2.264772e-01</td>\n",
       "      <td>1.434369</td>\n",
       "      <td>1.230317</td>\n",
       "      <td>-0.346806</td>\n",
       "      <td>-0.34905</td>\n",
       "      <td>-0.264675</td>\n",
       "      <td>3.082507</td>\n",
       "      <td>-0.351468</td>\n",
       "      <td>...</td>\n",
       "      <td>-1.199357</td>\n",
       "      <td>0.397337</td>\n",
       "      <td>2.063115</td>\n",
       "      <td>0.832813</td>\n",
       "      <td>0.878584</td>\n",
       "      <td>-0.762942</td>\n",
       "      <td>-0.919263</td>\n",
       "      <td>0.138794</td>\n",
       "      <td>-0.570716</td>\n",
       "      <td>1.111820</td>\n",
       "    </tr>\n",
       "  </tbody>\n",
       "</table>\n",
       "<p>5 rows × 130 columns</p>\n",
       "</div>"
      ],
      "text/plain": [
       "   Episode_Length_minutes  Host_Popularity_percentage  \\\n",
       "0           -3.477432e-16                    0.653611   \n",
       "1            1.677160e+00                    0.309976   \n",
       "2            2.849676e-01                    0.442009   \n",
       "3            8.084003e-02                   -0.115415   \n",
       "4            1.395385e+00                    0.883576   \n",
       "\n",
       "   Guest_Popularity_percentage  Number_of_Ads  Episode_Number  Genre_Business  \\\n",
       "0                -3.004898e-16      -1.171766        1.657582       -0.346806   \n",
       "1                 8.334811e-01       0.565657       -0.906009       -0.346806   \n",
       "2                -1.520724e+00      -1.171766       -1.262063       -0.346806   \n",
       "3                 9.301377e-01       0.565657       -0.229506       -0.346806   \n",
       "4                 2.264772e-01       1.434369        1.230317       -0.346806   \n",
       "\n",
       "   Genre_Comedy  Genre_Education  Genre_Health  Genre_Lifestyle  ...  \\\n",
       "0      -0.34905        -0.264675     -0.324411        -0.351468  ...   \n",
       "1       2.86492        -0.264675     -0.324411        -0.351468  ...   \n",
       "2      -0.34905         3.778220     -0.324411        -0.351468  ...   \n",
       "3      -0.34905        -0.264675     -0.324411        -0.351468  ...   \n",
       "4      -0.34905        -0.264675      3.082507        -0.351468  ...   \n",
       "\n",
       "   Podcast_Embed_91  Podcast_Embed_92  Podcast_Embed_93  Podcast_Embed_94  \\\n",
       "0          0.418261         -0.776574         -0.088732          0.567832   \n",
       "1          0.749341         -0.935100          1.541608          0.168647   \n",
       "2         -1.144233         -0.343991          1.651599          1.014901   \n",
       "3          2.008528          0.215965         -1.791090         -0.224865   \n",
       "4         -1.199357          0.397337          2.063115          0.832813   \n",
       "\n",
       "   Podcast_Embed_95  Podcast_Embed_96  Podcast_Embed_97  Podcast_Embed_98  \\\n",
       "0          1.608396          0.484065         -0.149683         -0.924076   \n",
       "1         -0.951429          1.436345          0.634674         -0.250853   \n",
       "2          1.670312         -0.472468          0.188194         -0.561836   \n",
       "3         -1.339929          1.635518         -1.438292          0.806239   \n",
       "4          0.878584         -0.762942         -0.919263          0.138794   \n",
       "\n",
       "   Podcast_Embed_99  Listening_Time_minutes  \n",
       "0         -0.285117               -0.516518  \n",
       "1          1.070425                1.568817  \n",
       "2         -0.927021               -0.018870  \n",
       "3          1.025922                0.030983  \n",
       "4         -0.570716                1.111820  \n",
       "\n",
       "[5 rows x 130 columns]"
      ]
     },
     "execution_count": 4,
     "metadata": {},
     "output_type": "execute_result"
    }
   ],
   "source": [
    "df.head()"
   ]
  },
  {
   "cell_type": "markdown",
   "id": "d4cde0de",
   "metadata": {},
   "source": [
    "# Separando as bases de treino e teste"
   ]
  },
  {
   "cell_type": "code",
   "execution_count": 5,
   "id": "2b6b4d7a",
   "metadata": {},
   "outputs": [],
   "source": [
    "train = df.sample(frac=0.75, random_state=0)\n",
    "test = df.drop(train.index)"
   ]
  },
  {
   "cell_type": "code",
   "execution_count": 6,
   "id": "194b6be6",
   "metadata": {},
   "outputs": [],
   "source": [
    "x_train = train\n",
    "y_train = train.pop('Listening_Time_minutes')"
   ]
  },
  {
   "cell_type": "code",
   "execution_count": 7,
   "id": "6ba43fb5",
   "metadata": {},
   "outputs": [
    {
     "name": "stdout",
     "output_type": "stream",
     "text": [
      "(562500, 129)\n"
     ]
    },
    {
     "data": {
      "text/html": [
       "<div>\n",
       "<style scoped>\n",
       "    .dataframe tbody tr th:only-of-type {\n",
       "        vertical-align: middle;\n",
       "    }\n",
       "\n",
       "    .dataframe tbody tr th {\n",
       "        vertical-align: top;\n",
       "    }\n",
       "\n",
       "    .dataframe thead th {\n",
       "        text-align: right;\n",
       "    }\n",
       "</style>\n",
       "<table border=\"1\" class=\"dataframe\">\n",
       "  <thead>\n",
       "    <tr style=\"text-align: right;\">\n",
       "      <th></th>\n",
       "      <th>Episode_Length_minutes</th>\n",
       "      <th>Host_Popularity_percentage</th>\n",
       "      <th>Guest_Popularity_percentage</th>\n",
       "      <th>Number_of_Ads</th>\n",
       "      <th>Episode_Number</th>\n",
       "      <th>Genre_Business</th>\n",
       "      <th>Genre_Comedy</th>\n",
       "      <th>Genre_Education</th>\n",
       "      <th>Genre_Health</th>\n",
       "      <th>Genre_Lifestyle</th>\n",
       "      <th>...</th>\n",
       "      <th>Podcast_Embed_90</th>\n",
       "      <th>Podcast_Embed_91</th>\n",
       "      <th>Podcast_Embed_92</th>\n",
       "      <th>Podcast_Embed_93</th>\n",
       "      <th>Podcast_Embed_94</th>\n",
       "      <th>Podcast_Embed_95</th>\n",
       "      <th>Podcast_Embed_96</th>\n",
       "      <th>Podcast_Embed_97</th>\n",
       "      <th>Podcast_Embed_98</th>\n",
       "      <th>Podcast_Embed_99</th>\n",
       "    </tr>\n",
       "  </thead>\n",
       "  <tbody>\n",
       "    <tr>\n",
       "      <th>629436</th>\n",
       "      <td>-1.027454e+00</td>\n",
       "      <td>-1.134517</td>\n",
       "      <td>-2.223613e-01</td>\n",
       "      <td>-0.303054</td>\n",
       "      <td>-1.724934</td>\n",
       "      <td>2.883460</td>\n",
       "      <td>-0.34905</td>\n",
       "      <td>-0.264675</td>\n",
       "      <td>-0.324411</td>\n",
       "      <td>-0.351468</td>\n",
       "      <td>...</td>\n",
       "      <td>0.626289</td>\n",
       "      <td>-0.286291</td>\n",
       "      <td>0.091187</td>\n",
       "      <td>-0.343969</td>\n",
       "      <td>0.366109</td>\n",
       "      <td>0.887332</td>\n",
       "      <td>0.406226</td>\n",
       "      <td>0.089579</td>\n",
       "      <td>0.627817</td>\n",
       "      <td>-0.008211</td>\n",
       "    </tr>\n",
       "    <tr>\n",
       "      <th>525015</th>\n",
       "      <td>-3.477432e-16</td>\n",
       "      <td>0.461682</td>\n",
       "      <td>-7.098624e-01</td>\n",
       "      <td>1.434369</td>\n",
       "      <td>-1.724934</td>\n",
       "      <td>-0.346806</td>\n",
       "      <td>-0.34905</td>\n",
       "      <td>-0.264675</td>\n",
       "      <td>-0.324411</td>\n",
       "      <td>-0.351468</td>\n",
       "      <td>...</td>\n",
       "      <td>0.791957</td>\n",
       "      <td>0.280409</td>\n",
       "      <td>-0.677255</td>\n",
       "      <td>-1.675407</td>\n",
       "      <td>-0.554471</td>\n",
       "      <td>-1.180162</td>\n",
       "      <td>-0.268244</td>\n",
       "      <td>-0.386334</td>\n",
       "      <td>-0.121098</td>\n",
       "      <td>0.052192</td>\n",
       "    </tr>\n",
       "    <tr>\n",
       "      <th>114041</th>\n",
       "      <td>1.007149e+00</td>\n",
       "      <td>-1.626362</td>\n",
       "      <td>-1.704547e+00</td>\n",
       "      <td>1.434369</td>\n",
       "      <td>-0.229506</td>\n",
       "      <td>-0.346806</td>\n",
       "      <td>-0.34905</td>\n",
       "      <td>-0.264675</td>\n",
       "      <td>-0.324411</td>\n",
       "      <td>-0.351468</td>\n",
       "      <td>...</td>\n",
       "      <td>1.705731</td>\n",
       "      <td>0.904423</td>\n",
       "      <td>1.236548</td>\n",
       "      <td>-1.009606</td>\n",
       "      <td>-1.494288</td>\n",
       "      <td>0.594588</td>\n",
       "      <td>1.743633</td>\n",
       "      <td>-1.714020</td>\n",
       "      <td>0.935636</td>\n",
       "      <td>2.061493</td>\n",
       "    </tr>\n",
       "    <tr>\n",
       "      <th>523286</th>\n",
       "      <td>-2.543174e-01</td>\n",
       "      <td>-1.475092</td>\n",
       "      <td>-1.350257e+00</td>\n",
       "      <td>-1.171766</td>\n",
       "      <td>1.443949</td>\n",
       "      <td>2.883460</td>\n",
       "      <td>-0.34905</td>\n",
       "      <td>-0.264675</td>\n",
       "      <td>-0.324411</td>\n",
       "      <td>-0.351468</td>\n",
       "      <td>...</td>\n",
       "      <td>0.072314</td>\n",
       "      <td>1.057136</td>\n",
       "      <td>0.260459</td>\n",
       "      <td>-2.003673</td>\n",
       "      <td>0.691439</td>\n",
       "      <td>1.927132</td>\n",
       "      <td>0.400299</td>\n",
       "      <td>0.576367</td>\n",
       "      <td>1.485932</td>\n",
       "      <td>0.562999</td>\n",
       "    </tr>\n",
       "    <tr>\n",
       "      <th>613265</th>\n",
       "      <td>3.477528e-01</td>\n",
       "      <td>1.243824</td>\n",
       "      <td>-3.004898e-16</td>\n",
       "      <td>-1.171766</td>\n",
       "      <td>-1.546907</td>\n",
       "      <td>-0.346806</td>\n",
       "      <td>-0.34905</td>\n",
       "      <td>-0.264675</td>\n",
       "      <td>3.082507</td>\n",
       "      <td>-0.351468</td>\n",
       "      <td>...</td>\n",
       "      <td>0.776517</td>\n",
       "      <td>-2.032318</td>\n",
       "      <td>2.230480</td>\n",
       "      <td>-1.063394</td>\n",
       "      <td>-2.134288</td>\n",
       "      <td>-0.927237</td>\n",
       "      <td>-0.526594</td>\n",
       "      <td>-0.770026</td>\n",
       "      <td>-0.076131</td>\n",
       "      <td>-1.791080</td>\n",
       "    </tr>\n",
       "  </tbody>\n",
       "</table>\n",
       "<p>5 rows × 129 columns</p>\n",
       "</div>"
      ],
      "text/plain": [
       "        Episode_Length_minutes  Host_Popularity_percentage  \\\n",
       "629436           -1.027454e+00                   -1.134517   \n",
       "525015           -3.477432e-16                    0.461682   \n",
       "114041            1.007149e+00                   -1.626362   \n",
       "523286           -2.543174e-01                   -1.475092   \n",
       "613265            3.477528e-01                    1.243824   \n",
       "\n",
       "        Guest_Popularity_percentage  Number_of_Ads  Episode_Number  \\\n",
       "629436                -2.223613e-01      -0.303054       -1.724934   \n",
       "525015                -7.098624e-01       1.434369       -1.724934   \n",
       "114041                -1.704547e+00       1.434369       -0.229506   \n",
       "523286                -1.350257e+00      -1.171766        1.443949   \n",
       "613265                -3.004898e-16      -1.171766       -1.546907   \n",
       "\n",
       "        Genre_Business  Genre_Comedy  Genre_Education  Genre_Health  \\\n",
       "629436        2.883460      -0.34905        -0.264675     -0.324411   \n",
       "525015       -0.346806      -0.34905        -0.264675     -0.324411   \n",
       "114041       -0.346806      -0.34905        -0.264675     -0.324411   \n",
       "523286        2.883460      -0.34905        -0.264675     -0.324411   \n",
       "613265       -0.346806      -0.34905        -0.264675      3.082507   \n",
       "\n",
       "        Genre_Lifestyle  ...  Podcast_Embed_90  Podcast_Embed_91  \\\n",
       "629436        -0.351468  ...          0.626289         -0.286291   \n",
       "525015        -0.351468  ...          0.791957          0.280409   \n",
       "114041        -0.351468  ...          1.705731          0.904423   \n",
       "523286        -0.351468  ...          0.072314          1.057136   \n",
       "613265        -0.351468  ...          0.776517         -2.032318   \n",
       "\n",
       "        Podcast_Embed_92  Podcast_Embed_93  Podcast_Embed_94  \\\n",
       "629436          0.091187         -0.343969          0.366109   \n",
       "525015         -0.677255         -1.675407         -0.554471   \n",
       "114041          1.236548         -1.009606         -1.494288   \n",
       "523286          0.260459         -2.003673          0.691439   \n",
       "613265          2.230480         -1.063394         -2.134288   \n",
       "\n",
       "        Podcast_Embed_95  Podcast_Embed_96  Podcast_Embed_97  \\\n",
       "629436          0.887332          0.406226          0.089579   \n",
       "525015         -1.180162         -0.268244         -0.386334   \n",
       "114041          0.594588          1.743633         -1.714020   \n",
       "523286          1.927132          0.400299          0.576367   \n",
       "613265         -0.927237         -0.526594         -0.770026   \n",
       "\n",
       "        Podcast_Embed_98  Podcast_Embed_99  \n",
       "629436          0.627817         -0.008211  \n",
       "525015         -0.121098          0.052192  \n",
       "114041          0.935636          2.061493  \n",
       "523286          1.485932          0.562999  \n",
       "613265         -0.076131         -1.791080  \n",
       "\n",
       "[5 rows x 129 columns]"
      ]
     },
     "execution_count": 7,
     "metadata": {},
     "output_type": "execute_result"
    }
   ],
   "source": [
    "print(x_train.shape)\n",
    "x_train.head(5)"
   ]
  },
  {
   "cell_type": "code",
   "execution_count": 8,
   "id": "e789c1d7",
   "metadata": {},
   "outputs": [
    {
     "name": "stdout",
     "output_type": "stream",
     "text": [
      "(562500,)\n"
     ]
    },
    {
     "data": {
      "text/plain": [
       "629436   -1.121337\n",
       "525015   -0.099715\n",
       "114041    0.335445\n",
       "523286   -0.522858\n",
       "613265    0.858139\n",
       "Name: Listening_Time_minutes, dtype: float64"
      ]
     },
     "execution_count": 8,
     "metadata": {},
     "output_type": "execute_result"
    }
   ],
   "source": [
    "print(y_train.shape)\n",
    "y_train.head(5)"
   ]
  },
  {
   "cell_type": "markdown",
   "id": "f7ea011f",
   "metadata": {},
   "source": [
    "# Construindo o Modelo"
   ]
  },
  {
   "cell_type": "markdown",
   "id": "49877987",
   "metadata": {},
   "source": [
    "## Imports and GPU config"
   ]
  },
  {
   "cell_type": "code",
   "execution_count": 9,
   "id": "c068ea2f",
   "metadata": {},
   "outputs": [
    {
     "name": "stderr",
     "output_type": "stream",
     "text": [
      "2025-04-22 14:23:54.891982: I tensorflow/core/util/port.cc:111] oneDNN custom operations are on. You may see slightly different numerical results due to floating-point round-off errors from different computation orders. To turn them off, set the environment variable `TF_ENABLE_ONEDNN_OPTS=0`.\n",
      "2025-04-22 14:23:55.277148: E tensorflow/compiler/xla/stream_executor/cuda/cuda_dnn.cc:9342] Unable to register cuDNN factory: Attempting to register factory for plugin cuDNN when one has already been registered\n",
      "2025-04-22 14:23:55.277175: E tensorflow/compiler/xla/stream_executor/cuda/cuda_fft.cc:609] Unable to register cuFFT factory: Attempting to register factory for plugin cuFFT when one has already been registered\n",
      "2025-04-22 14:23:55.278893: E tensorflow/compiler/xla/stream_executor/cuda/cuda_blas.cc:1518] Unable to register cuBLAS factory: Attempting to register factory for plugin cuBLAS when one has already been registered\n",
      "2025-04-22 14:23:55.455536: I tensorflow/core/platform/cpu_feature_guard.cc:182] This TensorFlow binary is optimized to use available CPU instructions in performance-critical operations.\n",
      "To enable the following instructions: AVX2 AVX512F AVX512_VNNI FMA, in other operations, rebuild TensorFlow with the appropriate compiler flags.\n",
      "2025-04-22 14:23:56.668440: W tensorflow/compiler/tf2tensorrt/utils/py_utils.cc:38] TF-TRT Warning: Could not find TensorRT\n"
     ]
    },
    {
     "name": "stdout",
     "output_type": "stream",
     "text": [
      "Num GPUs Available:  1\n"
     ]
    },
    {
     "name": "stderr",
     "output_type": "stream",
     "text": [
      "2025-04-22 14:23:58.514513: I tensorflow/compiler/xla/stream_executor/cuda/cuda_gpu_executor.cc:894] successful NUMA node read from SysFS had negative value (-1), but there must be at least one NUMA node, so returning NUMA node zero. See more at https://github.com/torvalds/linux/blob/v6.0/Documentation/ABI/testing/sysfs-bus-pci#L344-L355\n",
      "2025-04-22 14:23:58.969715: I tensorflow/compiler/xla/stream_executor/cuda/cuda_gpu_executor.cc:894] successful NUMA node read from SysFS had negative value (-1), but there must be at least one NUMA node, so returning NUMA node zero. See more at https://github.com/torvalds/linux/blob/v6.0/Documentation/ABI/testing/sysfs-bus-pci#L344-L355\n",
      "2025-04-22 14:23:58.969891: I tensorflow/compiler/xla/stream_executor/cuda/cuda_gpu_executor.cc:894] successful NUMA node read from SysFS had negative value (-1), but there must be at least one NUMA node, so returning NUMA node zero. See more at https://github.com/torvalds/linux/blob/v6.0/Documentation/ABI/testing/sysfs-bus-pci#L344-L355\n"
     ]
    }
   ],
   "source": [
    "from tensorflow.keras.layers import TimeDistributed, Dense, Input, Lambda, BatchNormalization, Concatenate, Conv1D, ZeroPadding1D\n",
    "from tensorflow.keras.models import Model\n",
    "from tensorflow.keras.utils import plot_model\n",
    "from tensorflow.keras.callbacks import EarlyStopping\n",
    "import tensorflow as tf\n",
    "\n",
    "print(\"Num GPUs Available: \", len(tf.config.list_physical_devices('GPU')))\n",
    "\n",
    "# Configurando para não alocar diretamente toda a memória da GPU (alocar conforme necessário)\n",
    "gpus = tf.config.experimental.list_physical_devices('GPU')\n",
    "if gpus:\n",
    "    try:\n",
    "        for gpu in gpus:\n",
    "            tf.config.experimental.set_memory_growth(gpu, True)  # Aloca memória conforme necessário\n",
    "    except RuntimeError as e:\n",
    "        print(e)"
   ]
  },
  {
   "cell_type": "markdown",
   "id": "2b9d16bf",
   "metadata": {},
   "source": [
    "## Definição do modelo"
   ]
  },
  {
   "cell_type": "code",
   "execution_count": 10,
   "id": "907952e1",
   "metadata": {},
   "outputs": [
    {
     "name": "stderr",
     "output_type": "stream",
     "text": [
      "2025-04-22 14:23:58.994835: I tensorflow/compiler/xla/stream_executor/cuda/cuda_gpu_executor.cc:894] successful NUMA node read from SysFS had negative value (-1), but there must be at least one NUMA node, so returning NUMA node zero. See more at https://github.com/torvalds/linux/blob/v6.0/Documentation/ABI/testing/sysfs-bus-pci#L344-L355\n",
      "2025-04-22 14:23:58.995225: I tensorflow/compiler/xla/stream_executor/cuda/cuda_gpu_executor.cc:894] successful NUMA node read from SysFS had negative value (-1), but there must be at least one NUMA node, so returning NUMA node zero. See more at https://github.com/torvalds/linux/blob/v6.0/Documentation/ABI/testing/sysfs-bus-pci#L344-L355\n",
      "2025-04-22 14:23:58.995459: I tensorflow/compiler/xla/stream_executor/cuda/cuda_gpu_executor.cc:894] successful NUMA node read from SysFS had negative value (-1), but there must be at least one NUMA node, so returning NUMA node zero. See more at https://github.com/torvalds/linux/blob/v6.0/Documentation/ABI/testing/sysfs-bus-pci#L344-L355\n",
      "2025-04-22 14:23:59.087284: I tensorflow/compiler/xla/stream_executor/cuda/cuda_gpu_executor.cc:894] successful NUMA node read from SysFS had negative value (-1), but there must be at least one NUMA node, so returning NUMA node zero. See more at https://github.com/torvalds/linux/blob/v6.0/Documentation/ABI/testing/sysfs-bus-pci#L344-L355\n",
      "2025-04-22 14:23:59.087418: I tensorflow/compiler/xla/stream_executor/cuda/cuda_gpu_executor.cc:894] successful NUMA node read from SysFS had negative value (-1), but there must be at least one NUMA node, so returning NUMA node zero. See more at https://github.com/torvalds/linux/blob/v6.0/Documentation/ABI/testing/sysfs-bus-pci#L344-L355\n",
      "2025-04-22 14:23:59.087507: I tensorflow/compiler/xla/stream_executor/cuda/cuda_gpu_executor.cc:894] successful NUMA node read from SysFS had negative value (-1), but there must be at least one NUMA node, so returning NUMA node zero. See more at https://github.com/torvalds/linux/blob/v6.0/Documentation/ABI/testing/sysfs-bus-pci#L344-L355\n",
      "2025-04-22 14:23:59.087576: I tensorflow/core/common_runtime/gpu/gpu_device.cc:1886] Created device /job:localhost/replica:0/task:0/device:GPU:0 with 2795 MB memory:  -> device: 0, name: NVIDIA GeForce GTX 1650, pci bus id: 0000:01:00.0, compute capability: 7.5\n"
     ]
    },
    {
     "data": {
      "image/png": "[encoded data removed]",
      "text/plain": [
       "<IPython.core.display.Image object>"
      ]
     },
     "execution_count": 10,
     "metadata": {},
     "output_type": "execute_result"
    }
   ],
   "source": [
    "def extrator_features(input_dims, activation, bias):\n",
    "  input_layer = Input(shape=[input_dims])\n",
    "\n",
    "  x_0 = Dense(int(input_dims*4), activation=activation, use_bias=bias, kernel_regularizer=None)(input_layer)\n",
    "  # x_1 = tf.keras.layers.Dropout(0.2)(x_0)\n",
    "  x_2 = Dense(int(input_dims*8), activation=activation, use_bias=bias)(x_0)\n",
    "  x_3 = Dense(int(input_dims*8), activation=activation, use_bias=bias)(x_2)\n",
    "  x_4 = Dense(int(input_dims*4), activation=activation, use_bias=bias)(x_3)\n",
    "  x_bottleneck = Dense(int(input_dims), activation=activation, name='encoder', use_bias=bias, kernel_regularizer=\"l1\")(x_4)\n",
    "\n",
    "  return Model(input_layer, x_bottleneck, name=\"features\")\n",
    "\n",
    "def regressor(input_dims, output_dims, activation, bias):\n",
    "  input_layer = Input(shape=[input_dims])\n",
    "\n",
    "  x_0 = Dense(int(input_dims/2), activation=activation, use_bias=bias)(input_layer)\n",
    "  x_2 = Dense(int(input_dims/4), activation=activation, use_bias=bias)(x_0)\n",
    "  saidas = Dense(output_dims, activation=None, name='regressor_saidas', use_bias=bias)(x_2)\n",
    "\n",
    "  return Model(input_layer, saidas, name=\"regressor\")\n",
    "\n",
    "def build_models(input_dims, output_dims, activation, bias):\n",
    "  # Camadas de entrada\n",
    "  input_layer = Input(shape=[input_dims])\n",
    "\n",
    "  x_n = BatchNormalization()(input_layer)\n",
    "\n",
    "  # Kernels\n",
    "  extrator = extrator_features(input_dims, activation, bias)\n",
    "\n",
    "  # Features\n",
    "  features = extrator(x_n)\n",
    "\n",
    "  # Regressão\n",
    "  regressao = regressor(features.shape[1], output_dims, activation, bias)\n",
    "\n",
    "  saida = regressao(features)\n",
    "  \n",
    "  return (\n",
    "      Model(input_layer, saida, name=\"regressao\"),\n",
    "      Model(input_layer, features, name=\"projecao\")\n",
    "  )\n",
    "\n",
    "model, features = build_models(x_train.shape[1], 1, 'relu', True)\n",
    "model.compile(optimizer='adam', loss='mse', metrics=['mae', 'mse'])\n",
    "plot_model(model, show_shapes=True, expand_nested=True)"
   ]
  },
  {
   "cell_type": "markdown",
   "id": "3d62ba39",
   "metadata": {},
   "source": [
    "## Treinando o modelo"
   ]
  },
  {
   "cell_type": "code",
   "execution_count": 11,
   "id": "ee6b08b5",
   "metadata": {},
   "outputs": [
    {
     "name": "stdout",
     "output_type": "stream",
     "text": [
      "Epoch 1/20\n"
     ]
    },
    {
     "name": "stderr",
     "output_type": "stream",
     "text": [
      "2025-04-22 14:24:02.305428: I tensorflow/compiler/xla/service/service.cc:168] XLA service 0x7f382838f7c0 initialized for platform CUDA (this does not guarantee that XLA will be used). Devices:\n",
      "2025-04-22 14:24:02.305449: I tensorflow/compiler/xla/service/service.cc:176]   StreamExecutor device (0): NVIDIA GeForce GTX 1650, Compute Capability 7.5\n",
      "2025-04-22 14:24:02.313566: I tensorflow/compiler/mlir/tensorflow/utils/dump_mlir_util.cc:269] disabling MLIR crash reproducer, set env var `MLIR_CRASH_REPRODUCER_DIRECTORY` to enable.\n",
      "2025-04-22 14:24:02.368592: I tensorflow/compiler/xla/stream_executor/cuda/cuda_dnn.cc:442] Loaded cuDNN version 8907\n",
      "2025-04-22 14:24:02.439105: I ./tensorflow/compiler/jit/device_compiler.h:186] Compiled cluster using XLA!  This line is logged at most once for the lifetime of the process.\n"
     ]
    },
    {
     "name": "stdout",
     "output_type": "stream",
     "text": [
      "14063/14063 [==============================] - 43s 3ms/step - loss: 0.4505 - mae: 0.3999 - mse: 0.2834 - val_loss: 0.3184 - val_mae: 0.3603 - val_mse: 0.2411\n",
      "Epoch 2/20\n",
      "14063/14063 [==============================] - 40s 3ms/step - loss: 0.3486 - mae: 0.3903 - mse: 0.2713 - val_loss: 0.3216 - val_mae: 0.3660 - val_mse: 0.2444\n",
      "Epoch 3/20\n",
      "14063/14063 [==============================] - 40s 3ms/step - loss: 0.3469 - mae: 0.3888 - mse: 0.2697 - val_loss: 0.3186 - val_mae: 0.3604 - val_mse: 0.2415\n",
      "Epoch 4/20\n",
      "14063/14063 [==============================] - 41s 3ms/step - loss: 0.3460 - mae: 0.3882 - mse: 0.2688 - val_loss: 0.3210 - val_mae: 0.3638 - val_mse: 0.2441\n",
      "Epoch 5/20\n",
      "14063/14063 [==============================] - 44s 3ms/step - loss: 0.3451 - mae: 0.3871 - mse: 0.2678 - val_loss: 0.3265 - val_mae: 0.3688 - val_mse: 0.2493\n",
      "Epoch 6/20\n",
      "14063/14063 [==============================] - 46s 3ms/step - loss: 0.3453 - mae: 0.3877 - mse: 0.2681 - val_loss: 0.3189 - val_mae: 0.3618 - val_mse: 0.2416\n"
     ]
    }
   ],
   "source": [
    "# Callback para recuperar o melhor peso, e parar quando ficar três épocas sem melhora\n",
    "callback = tf.keras.callbacks.EarlyStopping(monitor='val_loss', patience=5, restore_best_weights=True)\n",
    "\n",
    "# Treinando o modelo\n",
    "history = model.fit(x_train, y_train, epochs=20, validation_split = 0.2, callbacks=[callback])"
   ]
  },
  {
   "cell_type": "markdown",
   "id": "bdd1f677",
   "metadata": {},
   "source": [
    "## Analysing error metrics"
   ]
  },
  {
   "cell_type": "code",
   "execution_count": 12,
   "id": "524e697b",
   "metadata": {},
   "outputs": [
    {
     "data": {
      "text/html": [
       "<div>\n",
       "<style scoped>\n",
       "    .dataframe tbody tr th:only-of-type {\n",
       "        vertical-align: middle;\n",
       "    }\n",
       "\n",
       "    .dataframe tbody tr th {\n",
       "        vertical-align: top;\n",
       "    }\n",
       "\n",
       "    .dataframe thead th {\n",
       "        text-align: right;\n",
       "    }\n",
       "</style>\n",
       "<table border=\"1\" class=\"dataframe\">\n",
       "  <thead>\n",
       "    <tr style=\"text-align: right;\">\n",
       "      <th></th>\n",
       "      <th>loss</th>\n",
       "      <th>mae</th>\n",
       "      <th>mse</th>\n",
       "      <th>val_loss</th>\n",
       "      <th>val_mae</th>\n",
       "      <th>val_mse</th>\n",
       "      <th>epoch</th>\n",
       "      <th>rmse</th>\n",
       "      <th>val_rmse</th>\n",
       "    </tr>\n",
       "  </thead>\n",
       "  <tbody>\n",
       "    <tr>\n",
       "      <th>1</th>\n",
       "      <td>0.348580</td>\n",
       "      <td>0.390305</td>\n",
       "      <td>0.271263</td>\n",
       "      <td>0.321634</td>\n",
       "      <td>0.366019</td>\n",
       "      <td>0.244370</td>\n",
       "      <td>1</td>\n",
       "      <td>0.520829</td>\n",
       "      <td>0.494338</td>\n",
       "    </tr>\n",
       "    <tr>\n",
       "      <th>2</th>\n",
       "      <td>0.346921</td>\n",
       "      <td>0.388777</td>\n",
       "      <td>0.269726</td>\n",
       "      <td>0.318643</td>\n",
       "      <td>0.360419</td>\n",
       "      <td>0.241461</td>\n",
       "      <td>2</td>\n",
       "      <td>0.519351</td>\n",
       "      <td>0.491387</td>\n",
       "    </tr>\n",
       "    <tr>\n",
       "      <th>3</th>\n",
       "      <td>0.346041</td>\n",
       "      <td>0.388243</td>\n",
       "      <td>0.268835</td>\n",
       "      <td>0.320983</td>\n",
       "      <td>0.363842</td>\n",
       "      <td>0.244091</td>\n",
       "      <td>3</td>\n",
       "      <td>0.518493</td>\n",
       "      <td>0.494056</td>\n",
       "    </tr>\n",
       "    <tr>\n",
       "      <th>4</th>\n",
       "      <td>0.345057</td>\n",
       "      <td>0.387103</td>\n",
       "      <td>0.267787</td>\n",
       "      <td>0.326529</td>\n",
       "      <td>0.368827</td>\n",
       "      <td>0.249310</td>\n",
       "      <td>4</td>\n",
       "      <td>0.517482</td>\n",
       "      <td>0.499309</td>\n",
       "    </tr>\n",
       "    <tr>\n",
       "      <th>5</th>\n",
       "      <td>0.345291</td>\n",
       "      <td>0.387690</td>\n",
       "      <td>0.268082</td>\n",
       "      <td>0.318912</td>\n",
       "      <td>0.361760</td>\n",
       "      <td>0.241641</td>\n",
       "      <td>5</td>\n",
       "      <td>0.517766</td>\n",
       "      <td>0.491569</td>\n",
       "    </tr>\n",
       "  </tbody>\n",
       "</table>\n",
       "</div>"
      ],
      "text/plain": [
       "       loss       mae       mse  val_loss   val_mae   val_mse  epoch  \\\n",
       "1  0.348580  0.390305  0.271263  0.321634  0.366019  0.244370      1   \n",
       "2  0.346921  0.388777  0.269726  0.318643  0.360419  0.241461      2   \n",
       "3  0.346041  0.388243  0.268835  0.320983  0.363842  0.244091      3   \n",
       "4  0.345057  0.387103  0.267787  0.326529  0.368827  0.249310      4   \n",
       "5  0.345291  0.387690  0.268082  0.318912  0.361760  0.241641      5   \n",
       "\n",
       "       rmse  val_rmse  \n",
       "1  0.520829  0.494338  \n",
       "2  0.519351  0.491387  \n",
       "3  0.518493  0.494056  \n",
       "4  0.517482  0.499309  \n",
       "5  0.517766  0.491569  "
      ]
     },
     "execution_count": 12,
     "metadata": {},
     "output_type": "execute_result"
    }
   ],
   "source": [
    "hist = pd.DataFrame(history.history)\n",
    "hist['epoch'] = history.epoch\n",
    "hist['rmse'] = np.sqrt(hist['mse'])\n",
    "hist['val_rmse'] = np.sqrt(hist['val_mse'])\n",
    "hist.tail()"
   ]
  },
  {
   "cell_type": "code",
   "execution_count": 13,
   "id": "e955ce01",
   "metadata": {},
   "outputs": [
    {
     "data": {
      "image/png": "[encoded data removed]",
      "text/plain": [
       "<Figure size 640x480 with 1 Axes>"
      ]
     },
     "metadata": {},
     "output_type": "display_data"
    },
    {
     "data": {
      "image/png": "[encoded data removed]",
      "text/plain": [
       "<Figure size 640x480 with 1 Axes>"
      ]
     },
     "metadata": {},
     "output_type": "display_data"
    }
   ],
   "source": [
    "import matplotlib.pyplot as plt\n",
    "\n",
    "plt.figure()\n",
    "plt.title(\"Evolução das funções de perda durante o treinamento da rede\")\n",
    "plt.xlabel('Rodada')\n",
    "plt.ylabel('Root Mean Square Error')\n",
    "plt.plot(hist['epoch'], hist['rmse'], label='RMSE Treino')\n",
    "plt.plot(hist['epoch'], hist['val_rmse'], label = 'RMSE Validação')\n",
    "plt.legend()\n",
    "\n",
    "plt.figure()\n",
    "plt.xlabel('Rodada')\n",
    "plt.ylabel('Mean Absolute Error')\n",
    "plt.plot(hist['epoch'], hist['mae'], label='MAE Treino')\n",
    "plt.plot(hist['epoch'], hist['val_mae'], label = 'MAE Validação')\n",
    "plt.legend()\n",
    "\n",
    "plt.show()"
   ]
  },
  {
   "cell_type": "markdown",
   "id": "5b6defec",
   "metadata": {},
   "source": [
    "## Evaluating the model"
   ]
  },
  {
   "cell_type": "markdown",
   "id": "47f90118",
   "metadata": {},
   "source": [
    "### Preparing test dataframe"
   ]
  },
  {
   "cell_type": "code",
   "execution_count": 14,
   "id": "193a02e2",
   "metadata": {},
   "outputs": [
    {
     "name": "stdout",
     "output_type": "stream",
     "text": [
      "(187500, 129)\n"
     ]
    },
    {
     "data": {
      "text/html": [
       "<div>\n",
       "<style scoped>\n",
       "    .dataframe tbody tr th:only-of-type {\n",
       "        vertical-align: middle;\n",
       "    }\n",
       "\n",
       "    .dataframe tbody tr th {\n",
       "        vertical-align: top;\n",
       "    }\n",
       "\n",
       "    .dataframe thead th {\n",
       "        text-align: right;\n",
       "    }\n",
       "</style>\n",
       "<table border=\"1\" class=\"dataframe\">\n",
       "  <thead>\n",
       "    <tr style=\"text-align: right;\">\n",
       "      <th></th>\n",
       "      <th>Episode_Length_minutes</th>\n",
       "      <th>Host_Popularity_percentage</th>\n",
       "      <th>Guest_Popularity_percentage</th>\n",
       "      <th>Number_of_Ads</th>\n",
       "      <th>Episode_Number</th>\n",
       "      <th>Genre_Business</th>\n",
       "      <th>Genre_Comedy</th>\n",
       "      <th>Genre_Education</th>\n",
       "      <th>Genre_Health</th>\n",
       "      <th>Genre_Lifestyle</th>\n",
       "      <th>...</th>\n",
       "      <th>Podcast_Embed_90</th>\n",
       "      <th>Podcast_Embed_91</th>\n",
       "      <th>Podcast_Embed_92</th>\n",
       "      <th>Podcast_Embed_93</th>\n",
       "      <th>Podcast_Embed_94</th>\n",
       "      <th>Podcast_Embed_95</th>\n",
       "      <th>Podcast_Embed_96</th>\n",
       "      <th>Podcast_Embed_97</th>\n",
       "      <th>Podcast_Embed_98</th>\n",
       "      <th>Podcast_Embed_99</th>\n",
       "    </tr>\n",
       "  </thead>\n",
       "  <tbody>\n",
       "    <tr>\n",
       "      <th>1</th>\n",
       "      <td>1.677160</td>\n",
       "      <td>0.309976</td>\n",
       "      <td>8.334811e-01</td>\n",
       "      <td>0.565657</td>\n",
       "      <td>-0.906009</td>\n",
       "      <td>-0.346806</td>\n",
       "      <td>2.86492</td>\n",
       "      <td>-0.264675</td>\n",
       "      <td>-0.324411</td>\n",
       "      <td>-0.351468</td>\n",
       "      <td>...</td>\n",
       "      <td>-1.514966</td>\n",
       "      <td>0.749341</td>\n",
       "      <td>-0.935100</td>\n",
       "      <td>1.541608</td>\n",
       "      <td>0.168647</td>\n",
       "      <td>-0.951429</td>\n",
       "      <td>1.436345</td>\n",
       "      <td>0.634674</td>\n",
       "      <td>-0.250853</td>\n",
       "      <td>1.070425</td>\n",
       "    </tr>\n",
       "    <tr>\n",
       "      <th>4</th>\n",
       "      <td>1.395385</td>\n",
       "      <td>0.883576</td>\n",
       "      <td>2.264772e-01</td>\n",
       "      <td>1.434369</td>\n",
       "      <td>1.230317</td>\n",
       "      <td>-0.346806</td>\n",
       "      <td>-0.34905</td>\n",
       "      <td>-0.264675</td>\n",
       "      <td>3.082507</td>\n",
       "      <td>-0.351468</td>\n",
       "      <td>...</td>\n",
       "      <td>-0.287775</td>\n",
       "      <td>-1.199357</td>\n",
       "      <td>0.397337</td>\n",
       "      <td>2.063115</td>\n",
       "      <td>0.832813</td>\n",
       "      <td>0.878584</td>\n",
       "      <td>-0.762942</td>\n",
       "      <td>-0.919263</td>\n",
       "      <td>0.138794</td>\n",
       "      <td>-0.570716</td>\n",
       "    </tr>\n",
       "    <tr>\n",
       "      <th>15</th>\n",
       "      <td>0.116024</td>\n",
       "      <td>0.676345</td>\n",
       "      <td>1.429238e+00</td>\n",
       "      <td>-1.171766</td>\n",
       "      <td>-0.158295</td>\n",
       "      <td>-0.346806</td>\n",
       "      <td>-0.34905</td>\n",
       "      <td>-0.264675</td>\n",
       "      <td>-0.324411</td>\n",
       "      <td>-0.351468</td>\n",
       "      <td>...</td>\n",
       "      <td>0.169648</td>\n",
       "      <td>0.433356</td>\n",
       "      <td>-1.973291</td>\n",
       "      <td>0.919960</td>\n",
       "      <td>-1.271505</td>\n",
       "      <td>0.986772</td>\n",
       "      <td>0.346645</td>\n",
       "      <td>0.958411</td>\n",
       "      <td>0.850991</td>\n",
       "      <td>-0.181684</td>\n",
       "    </tr>\n",
       "    <tr>\n",
       "      <th>16</th>\n",
       "      <td>0.423580</td>\n",
       "      <td>-0.481785</td>\n",
       "      <td>-3.004898e-16</td>\n",
       "      <td>0.565657</td>\n",
       "      <td>1.087895</td>\n",
       "      <td>-0.346806</td>\n",
       "      <td>-0.34905</td>\n",
       "      <td>3.778220</td>\n",
       "      <td>-0.324411</td>\n",
       "      <td>-0.351468</td>\n",
       "      <td>...</td>\n",
       "      <td>-0.791153</td>\n",
       "      <td>-1.144233</td>\n",
       "      <td>-0.343991</td>\n",
       "      <td>1.651599</td>\n",
       "      <td>1.014901</td>\n",
       "      <td>1.670312</td>\n",
       "      <td>-0.472468</td>\n",
       "      <td>0.188194</td>\n",
       "      <td>-0.561836</td>\n",
       "      <td>-0.927021</td>\n",
       "    </tr>\n",
       "    <tr>\n",
       "      <th>22</th>\n",
       "      <td>0.052026</td>\n",
       "      <td>0.128977</td>\n",
       "      <td>1.287240e+00</td>\n",
       "      <td>-1.171766</td>\n",
       "      <td>0.090943</td>\n",
       "      <td>2.883460</td>\n",
       "      <td>-0.34905</td>\n",
       "      <td>-0.264675</td>\n",
       "      <td>-0.324411</td>\n",
       "      <td>-0.351468</td>\n",
       "      <td>...</td>\n",
       "      <td>0.072314</td>\n",
       "      <td>1.057136</td>\n",
       "      <td>0.260459</td>\n",
       "      <td>-2.003673</td>\n",
       "      <td>0.691439</td>\n",
       "      <td>1.927132</td>\n",
       "      <td>0.400299</td>\n",
       "      <td>0.576367</td>\n",
       "      <td>1.485932</td>\n",
       "      <td>0.562999</td>\n",
       "    </tr>\n",
       "  </tbody>\n",
       "</table>\n",
       "<p>5 rows × 129 columns</p>\n",
       "</div>"
      ],
      "text/plain": [
       "    Episode_Length_minutes  Host_Popularity_percentage  \\\n",
       "1                 1.677160                    0.309976   \n",
       "4                 1.395385                    0.883576   \n",
       "15                0.116024                    0.676345   \n",
       "16                0.423580                   -0.481785   \n",
       "22                0.052026                    0.128977   \n",
       "\n",
       "    Guest_Popularity_percentage  Number_of_Ads  Episode_Number  \\\n",
       "1                  8.334811e-01       0.565657       -0.906009   \n",
       "4                  2.264772e-01       1.434369        1.230317   \n",
       "15                 1.429238e+00      -1.171766       -0.158295   \n",
       "16                -3.004898e-16       0.565657        1.087895   \n",
       "22                 1.287240e+00      -1.171766        0.090943   \n",
       "\n",
       "    Genre_Business  Genre_Comedy  Genre_Education  Genre_Health  \\\n",
       "1        -0.346806       2.86492        -0.264675     -0.324411   \n",
       "4        -0.346806      -0.34905        -0.264675      3.082507   \n",
       "15       -0.346806      -0.34905        -0.264675     -0.324411   \n",
       "16       -0.346806      -0.34905         3.778220     -0.324411   \n",
       "22        2.883460      -0.34905        -0.264675     -0.324411   \n",
       "\n",
       "    Genre_Lifestyle  ...  Podcast_Embed_90  Podcast_Embed_91  \\\n",
       "1         -0.351468  ...         -1.514966          0.749341   \n",
       "4         -0.351468  ...         -0.287775         -1.199357   \n",
       "15        -0.351468  ...          0.169648          0.433356   \n",
       "16        -0.351468  ...         -0.791153         -1.144233   \n",
       "22        -0.351468  ...          0.072314          1.057136   \n",
       "\n",
       "    Podcast_Embed_92  Podcast_Embed_93  Podcast_Embed_94  Podcast_Embed_95  \\\n",
       "1          -0.935100          1.541608          0.168647         -0.951429   \n",
       "4           0.397337          2.063115          0.832813          0.878584   \n",
       "15         -1.973291          0.919960         -1.271505          0.986772   \n",
       "16         -0.343991          1.651599          1.014901          1.670312   \n",
       "22          0.260459         -2.003673          0.691439          1.927132   \n",
       "\n",
       "    Podcast_Embed_96  Podcast_Embed_97  Podcast_Embed_98  Podcast_Embed_99  \n",
       "1           1.436345          0.634674         -0.250853          1.070425  \n",
       "4          -0.762942         -0.919263          0.138794         -0.570716  \n",
       "15          0.346645          0.958411          0.850991         -0.181684  \n",
       "16         -0.472468          0.188194         -0.561836         -0.927021  \n",
       "22          0.400299          0.576367          1.485932          0.562999  \n",
       "\n",
       "[5 rows x 129 columns]"
      ]
     },
     "execution_count": 14,
     "metadata": {},
     "output_type": "execute_result"
    }
   ],
   "source": [
    "x_test = test\n",
    "y_test = test.pop('Listening_Time_minutes')\n",
    "print(x_test.shape)\n",
    "x_test.head(5)"
   ]
  },
  {
   "cell_type": "code",
   "execution_count": 15,
   "id": "ac4f2995",
   "metadata": {},
   "outputs": [],
   "source": [
    "scaler_y = load('scaler_y.joblib')\n",
    "y_test = scaler_y.inverse_transform(y_test.values.reshape(-1, 1))"
   ]
  },
  {
   "cell_type": "code",
   "execution_count": 17,
   "id": "3a93f7e7",
   "metadata": {},
   "outputs": [
    {
     "name": "stdout",
     "output_type": "stream",
     "text": [
      "[[88.01241]\n",
      " [75.61031]\n",
      " [63.97718]\n",
      " ...\n",
      " [61.16847]\n",
      " [56.87058]\n",
      " [15.26   ]]\n"
     ]
    }
   ],
   "source": [
    "print(y_test)"
   ]
  },
  {
   "cell_type": "markdown",
   "id": "37600de8",
   "metadata": {},
   "source": [
    "### Running prediction"
   ]
  },
  {
   "cell_type": "code",
   "execution_count": 19,
   "id": "7f697eee",
   "metadata": {},
   "outputs": [
    {
     "name": "stdout",
     "output_type": "stream",
     "text": [
      "5860/5860 [==============================] - 5s 775us/step\n",
      "[[82.96881 ]\n",
      " [72.37777 ]\n",
      " [48.542595]\n",
      " ...\n",
      " [87.58527 ]\n",
      " [52.243626]\n",
      " [21.888332]]\n"
     ]
    }
   ],
   "source": [
    "y_pred = model.predict(x_test)\n",
    "y_pred = scaler_y.inverse_transform(y_pred.reshape(-1, 1))\n",
    "print(y_pred)"
   ]
  },
  {
   "cell_type": "markdown",
   "id": "ea9ac6ee",
   "metadata": {},
   "source": [
    "### Calculating error metrics"
   ]
  },
  {
   "cell_type": "code",
   "execution_count": 20,
   "id": "1a94c312",
   "metadata": {},
   "outputs": [],
   "source": [
    "mse = tf.keras.losses.MSE(y_test, y_pred).numpy().mean()\n",
    "mae = tf.keras.losses.MAE(y_test, y_pred).numpy().mean()\n",
    "rmse = np.sqrt(mse)"
   ]
  },
  {
   "cell_type": "code",
   "execution_count": 21,
   "id": "d4436a65",
   "metadata": {},
   "outputs": [
    {
     "name": "stdout",
     "output_type": "stream",
     "text": [
      "RMSE Test: 13.37016773223877\n",
      "MSE Test: 178.76138305664062\n",
      "MAE Test: 9.803462982177734\n"
     ]
    }
   ],
   "source": [
    "print(f\"RMSE Test: {rmse}\")\n",
    "print(f\"MSE Test: {mse}\")\n",
    "print(f\"MAE Test: {mae}\")"
   ]
  },
  {
   "cell_type": "markdown",
   "id": "50f8c44a",
   "metadata": {},
   "source": [
    "## Saving the model"
   ]
  },
  {
   "cell_type": "code",
   "execution_count": 24,
   "id": "8b1995b0",
   "metadata": {},
   "outputs": [
    {
     "data": {
      "text/plain": [
       "['features.joblib']"
      ]
     },
     "execution_count": 24,
     "metadata": {},
     "output_type": "execute_result"
    }
   ],
   "source": [
    "model.save('model.keras')\n",
    "features.save('features.keras')\n",
    "dump(model, 'model.joblib')\n",
    "dump(features, 'features.joblib')"
   ]
  }
 ],
 "metadata": {
  "kernelspec": {
   "display_name": ".venv",
   "language": "python",
   "name": "python3"
  },
  "language_info": {
   "codemirror_mode": {
    "name": "ipython",
    "version": 3
   },
   "file_extension": ".py",
   "mimetype": "text/x-python",
   "name": "python",
   "nbconvert_exporter": "python",
   "pygments_lexer": "ipython3",
   "version": "3.11.2"
  }
 },
 "nbformat": 4,
 "nbformat_minor": 5
}
